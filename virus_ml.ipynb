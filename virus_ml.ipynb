{
 "cells": [
  {
   "cell_type": "code",
   "execution_count": 1,
   "id": "e24d4178",
   "metadata": {},
   "outputs": [],
   "source": [
    "# Импортируем библиотеки\n",
    "import pandas as pd\n",
    "import numpy as np\n",
    "from sklearn import metrics\n",
    "import matplotlib.pyplot as plt\n",
    "\n",
    "import seaborn as sns\n",
    "%matplotlib inline"
   ]
  },
  {
   "cell_type": "code",
   "execution_count": 4,
   "id": "c85dcb58",
   "metadata": {},
   "outputs": [],
   "source": [
    "data = pd.read_csv('Umbrella_LasPlagas.csv', sep = ';')"
   ]
  },
  {
   "cell_type": "code",
   "execution_count": 5,
   "id": "9881bd71",
   "metadata": {},
   "outputs": [
    {
     "data": {
      "text/html": [
       "<div>\n",
       "<style scoped>\n",
       "    .dataframe tbody tr th:only-of-type {\n",
       "        vertical-align: middle;\n",
       "    }\n",
       "\n",
       "    .dataframe tbody tr th {\n",
       "        vertical-align: top;\n",
       "    }\n",
       "\n",
       "    .dataframe thead th {\n",
       "        text-align: right;\n",
       "    }\n",
       "</style>\n",
       "<table border=\"1\" class=\"dataframe\">\n",
       "  <thead>\n",
       "    <tr style=\"text-align: right;\">\n",
       "      <th></th>\n",
       "      <th>ID_SIMPERS</th>\n",
       "      <th>FLAG_MUT</th>\n",
       "      <th>AGE</th>\n",
       "      <th>DOSE</th>\n",
       "      <th>HEIGHT</th>\n",
       "      <th>WEIGHT</th>\n",
       "      <th>GENDER</th>\n",
       "      <th>IS_CAUCAS</th>\n",
       "      <th>HAS_APPENDIX</th>\n",
       "      <th>HAS_ALLERGY</th>\n",
       "    </tr>\n",
       "  </thead>\n",
       "  <tbody>\n",
       "    <tr>\n",
       "      <th>0</th>\n",
       "      <td>10002748</td>\n",
       "      <td>1.0</td>\n",
       "      <td>17.0</td>\n",
       "      <td>19.0</td>\n",
       "      <td>164.0</td>\n",
       "      <td>120.0</td>\n",
       "      <td>M</td>\n",
       "      <td>NO</td>\n",
       "      <td>NO</td>\n",
       "      <td>NO</td>\n",
       "    </tr>\n",
       "    <tr>\n",
       "      <th>1</th>\n",
       "      <td>10003438</td>\n",
       "      <td>0.0</td>\n",
       "      <td>62.0</td>\n",
       "      <td>17.0</td>\n",
       "      <td>169.0</td>\n",
       "      <td>137.0</td>\n",
       "      <td>M</td>\n",
       "      <td>YES</td>\n",
       "      <td>YES</td>\n",
       "      <td>NO</td>\n",
       "    </tr>\n",
       "    <tr>\n",
       "      <th>2</th>\n",
       "      <td>10004371</td>\n",
       "      <td>1.0</td>\n",
       "      <td>5.0</td>\n",
       "      <td>24.0</td>\n",
       "      <td>100.0</td>\n",
       "      <td>21.0</td>\n",
       "      <td>M</td>\n",
       "      <td>YES</td>\n",
       "      <td>NO</td>\n",
       "      <td>NO</td>\n",
       "    </tr>\n",
       "    <tr>\n",
       "      <th>3</th>\n",
       "      <td>10002836</td>\n",
       "      <td>1.0</td>\n",
       "      <td>13.0</td>\n",
       "      <td>29.0</td>\n",
       "      <td>154.0</td>\n",
       "      <td>48.0</td>\n",
       "      <td>F</td>\n",
       "      <td>NO</td>\n",
       "      <td>NO</td>\n",
       "      <td>NO</td>\n",
       "    </tr>\n",
       "    <tr>\n",
       "      <th>4</th>\n",
       "      <td>10000347</td>\n",
       "      <td>0.0</td>\n",
       "      <td>35.0</td>\n",
       "      <td>28.0</td>\n",
       "      <td>198.0</td>\n",
       "      <td>121.0</td>\n",
       "      <td>M</td>\n",
       "      <td>YES</td>\n",
       "      <td>YES</td>\n",
       "      <td>YES</td>\n",
       "    </tr>\n",
       "  </tbody>\n",
       "</table>\n",
       "</div>"
      ],
      "text/plain": [
       "   ID_SIMPERS  FLAG_MUT   AGE  DOSE  HEIGHT  WEIGHT GENDER IS_CAUCAS  \\\n",
       "0    10002748       1.0  17.0  19.0   164.0   120.0      M        NO   \n",
       "1    10003438       0.0  62.0  17.0   169.0   137.0      M       YES   \n",
       "2    10004371       1.0   5.0  24.0   100.0    21.0      M       YES   \n",
       "3    10002836       1.0  13.0  29.0   154.0    48.0      F        NO   \n",
       "4    10000347       0.0  35.0  28.0   198.0   121.0      M       YES   \n",
       "\n",
       "  HAS_APPENDIX HAS_ALLERGY  \n",
       "0           NO          NO  \n",
       "1          YES          NO  \n",
       "2           NO          NO  \n",
       "3           NO          NO  \n",
       "4          YES         YES  "
      ]
     },
     "execution_count": 5,
     "metadata": {},
     "output_type": "execute_result"
    }
   ],
   "source": [
    "data.head()"
   ]
  },
  {
   "cell_type": "code",
   "execution_count": 10,
   "id": "5f59bb0f",
   "metadata": {},
   "outputs": [
    {
     "name": "stdout",
     "output_type": "stream",
     "text": [
      "<class 'pandas.core.frame.DataFrame'>\n",
      "RangeIndex: 4887 entries, 0 to 4886\n",
      "Data columns (total 10 columns):\n",
      " #   Column        Non-Null Count  Dtype  \n",
      "---  ------        --------------  -----  \n",
      " 0   ID_SIMPERS    4887 non-null   int64  \n",
      " 1   FLAG_MUT      4866 non-null   float64\n",
      " 2   AGE           4859 non-null   float64\n",
      " 3   DOSE          4856 non-null   float64\n",
      " 4   HEIGHT        4776 non-null   float64\n",
      " 5   WEIGHT        4776 non-null   float64\n",
      " 6   GENDER        4844 non-null   object \n",
      " 7   IS_CAUCAS     4846 non-null   object \n",
      " 8   HAS_APPENDIX  4846 non-null   object \n",
      " 9   HAS_ALLERGY   4856 non-null   object \n",
      "dtypes: float64(5), int64(1), object(4)\n",
      "memory usage: 381.9+ KB\n"
     ]
    }
   ],
   "source": [
    "data.info()"
   ]
  },
  {
   "cell_type": "code",
   "execution_count": 11,
   "id": "d31f77fd",
   "metadata": {},
   "outputs": [
    {
     "data": {
      "text/plain": [
       "ID_SIMPERS      4887\n",
       "FLAG_MUT           2\n",
       "AGE               81\n",
       "DOSE              50\n",
       "HEIGHT           114\n",
       "WEIGHT           143\n",
       "GENDER             2\n",
       "IS_CAUCAS          2\n",
       "HAS_APPENDIX       2\n",
       "HAS_ALLERGY        2\n",
       "dtype: int64"
      ]
     },
     "execution_count": 11,
     "metadata": {},
     "output_type": "execute_result"
    }
   ],
   "source": [
    "# смотрим кол-во уникальных значений в столбцах:\n",
    "data.nunique()"
   ]
  },
  {
   "cell_type": "code",
   "execution_count": 18,
   "id": "b590ce7b",
   "metadata": {},
   "outputs": [
    {
     "data": {
      "text/plain": [
       "ID_SIMPERS        0\n",
       "FLAG_MUT         21\n",
       "AGE              28\n",
       "DOSE             31\n",
       "HEIGHT          111\n",
       "WEIGHT          111\n",
       "GENDER           43\n",
       "IS_CAUCAS        41\n",
       "HAS_APPENDIX     41\n",
       "HAS_ALLERGY      31\n",
       "dtype: int64"
      ]
     },
     "execution_count": 18,
     "metadata": {},
     "output_type": "execute_result"
    }
   ],
   "source": [
    "data.isnull().sum()"
   ]
  },
  {
   "cell_type": "code",
   "execution_count": 19,
   "id": "f0a14d68",
   "metadata": {},
   "outputs": [],
   "source": [
    "# Убераем Null, но учитываем, что лишаемся не более 5% данных\n",
    "data = data.dropna()"
   ]
  },
  {
   "cell_type": "code",
   "execution_count": 27,
   "id": "c5710aa6",
   "metadata": {},
   "outputs": [],
   "source": [
    "# Перекодируем строки в числа, так как модели не работают со строками:\n",
    "data.GENDER = data.GENDER.map({'M':1, 'F':0})\n",
    "data.IS_CAUCAS = data.IS_CAUCAS.map({'YES':1, 'NO':0})\n",
    "data.HAS_APPENDIX = data.HAS_APPENDIX.map({'YES':1, 'NO':0})\n",
    "data.HAS_ALLERGY = data.HAS_ALLERGY.map({'YES':1, 'NO':0})\n",
    "# Можно еще через replace() сделать"
   ]
  },
  {
   "cell_type": "code",
   "execution_count": 28,
   "id": "afa4b889",
   "metadata": {},
   "outputs": [
    {
     "name": "stdout",
     "output_type": "stream",
     "text": [
      "<class 'pandas.core.frame.DataFrame'>\n",
      "Int64Index: 4772 entries, 0 to 4886\n",
      "Data columns (total 10 columns):\n",
      " #   Column        Non-Null Count  Dtype  \n",
      "---  ------        --------------  -----  \n",
      " 0   ID_SIMPERS    4772 non-null   int64  \n",
      " 1   FLAG_MUT      4772 non-null   float64\n",
      " 2   AGE           4772 non-null   float64\n",
      " 3   DOSE          4772 non-null   float64\n",
      " 4   HEIGHT        4772 non-null   float64\n",
      " 5   WEIGHT        4772 non-null   float64\n",
      " 6   GENDER        4772 non-null   int64  \n",
      " 7   IS_CAUCAS     4772 non-null   int64  \n",
      " 8   HAS_APPENDIX  4772 non-null   int64  \n",
      " 9   HAS_ALLERGY   4772 non-null   int64  \n",
      "dtypes: float64(5), int64(5)\n",
      "memory usage: 410.1 KB\n"
     ]
    }
   ],
   "source": [
    "data.info()"
   ]
  },
  {
   "cell_type": "markdown",
   "id": "48b0b535",
   "metadata": {},
   "source": [
    "## Дерево решений:"
   ]
  },
  {
   "cell_type": "code",
   "execution_count": 29,
   "id": "f6db3f6f",
   "metadata": {},
   "outputs": [],
   "source": [
    "from sklearn.model_selection import train_test_split\n",
    "from sklearn.metrics import confusion_matrix\n",
    "from sklearn.tree import DecisionTreeClassifier\n",
    "from sklearn.metrics import accuracy_score"
   ]
  },
  {
   "cell_type": "code",
   "execution_count": 30,
   "id": "698ff029",
   "metadata": {},
   "outputs": [],
   "source": [
    "x_train, x_test, y_train, y_test = train_test_split(\n",
    "    data.drop(['FLAG_MUT'], axis=1),\n",
    "    data.FLAG_MUT,\n",
    "    test_size= 0.2,\n",
    "    random_state = 0,\n",
    "    stratify= data.FLAG_MUT)"
   ]
  },
  {
   "cell_type": "markdown",
   "id": "e2e9826f",
   "metadata": {},
   "source": [
    "### Смотрим тренировочные сеты"
   ]
  },
  {
   "cell_type": "code",
   "execution_count": 31,
   "id": "ce59edba",
   "metadata": {},
   "outputs": [
    {
     "data": {
      "text/html": [
       "<div>\n",
       "<style scoped>\n",
       "    .dataframe tbody tr th:only-of-type {\n",
       "        vertical-align: middle;\n",
       "    }\n",
       "\n",
       "    .dataframe tbody tr th {\n",
       "        vertical-align: top;\n",
       "    }\n",
       "\n",
       "    .dataframe thead th {\n",
       "        text-align: right;\n",
       "    }\n",
       "</style>\n",
       "<table border=\"1\" class=\"dataframe\">\n",
       "  <thead>\n",
       "    <tr style=\"text-align: right;\">\n",
       "      <th></th>\n",
       "      <th>ID_SIMPERS</th>\n",
       "      <th>AGE</th>\n",
       "      <th>DOSE</th>\n",
       "      <th>HEIGHT</th>\n",
       "      <th>WEIGHT</th>\n",
       "      <th>GENDER</th>\n",
       "      <th>IS_CAUCAS</th>\n",
       "      <th>HAS_APPENDIX</th>\n",
       "      <th>HAS_ALLERGY</th>\n",
       "    </tr>\n",
       "  </thead>\n",
       "  <tbody>\n",
       "    <tr>\n",
       "      <th>1998</th>\n",
       "      <td>10003342</td>\n",
       "      <td>31.0</td>\n",
       "      <td>19.0</td>\n",
       "      <td>205.0</td>\n",
       "      <td>140.0</td>\n",
       "      <td>1</td>\n",
       "      <td>1</td>\n",
       "      <td>1</td>\n",
       "      <td>1</td>\n",
       "    </tr>\n",
       "    <tr>\n",
       "      <th>4143</th>\n",
       "      <td>10004418</td>\n",
       "      <td>35.0</td>\n",
       "      <td>35.0</td>\n",
       "      <td>188.0</td>\n",
       "      <td>51.0</td>\n",
       "      <td>1</td>\n",
       "      <td>0</td>\n",
       "      <td>0</td>\n",
       "      <td>0</td>\n",
       "    </tr>\n",
       "    <tr>\n",
       "      <th>1224</th>\n",
       "      <td>10002657</td>\n",
       "      <td>16.0</td>\n",
       "      <td>41.0</td>\n",
       "      <td>165.0</td>\n",
       "      <td>148.0</td>\n",
       "      <td>0</td>\n",
       "      <td>0</td>\n",
       "      <td>1</td>\n",
       "      <td>0</td>\n",
       "    </tr>\n",
       "    <tr>\n",
       "      <th>3509</th>\n",
       "      <td>10001628</td>\n",
       "      <td>44.0</td>\n",
       "      <td>15.0</td>\n",
       "      <td>171.0</td>\n",
       "      <td>110.0</td>\n",
       "      <td>0</td>\n",
       "      <td>0</td>\n",
       "      <td>0</td>\n",
       "      <td>1</td>\n",
       "    </tr>\n",
       "    <tr>\n",
       "      <th>407</th>\n",
       "      <td>10004001</td>\n",
       "      <td>51.0</td>\n",
       "      <td>29.0</td>\n",
       "      <td>174.0</td>\n",
       "      <td>77.0</td>\n",
       "      <td>1</td>\n",
       "      <td>0</td>\n",
       "      <td>1</td>\n",
       "      <td>0</td>\n",
       "    </tr>\n",
       "    <tr>\n",
       "      <th>...</th>\n",
       "      <td>...</td>\n",
       "      <td>...</td>\n",
       "      <td>...</td>\n",
       "      <td>...</td>\n",
       "      <td>...</td>\n",
       "      <td>...</td>\n",
       "      <td>...</td>\n",
       "      <td>...</td>\n",
       "      <td>...</td>\n",
       "    </tr>\n",
       "    <tr>\n",
       "      <th>2211</th>\n",
       "      <td>10000685</td>\n",
       "      <td>65.0</td>\n",
       "      <td>26.0</td>\n",
       "      <td>160.0</td>\n",
       "      <td>110.0</td>\n",
       "      <td>0</td>\n",
       "      <td>1</td>\n",
       "      <td>1</td>\n",
       "      <td>0</td>\n",
       "    </tr>\n",
       "    <tr>\n",
       "      <th>4573</th>\n",
       "      <td>10001102</td>\n",
       "      <td>54.0</td>\n",
       "      <td>13.0</td>\n",
       "      <td>170.0</td>\n",
       "      <td>148.0</td>\n",
       "      <td>0</td>\n",
       "      <td>1</td>\n",
       "      <td>1</td>\n",
       "      <td>0</td>\n",
       "    </tr>\n",
       "    <tr>\n",
       "      <th>1299</th>\n",
       "      <td>10000518</td>\n",
       "      <td>14.0</td>\n",
       "      <td>7.0</td>\n",
       "      <td>149.0</td>\n",
       "      <td>50.0</td>\n",
       "      <td>1</td>\n",
       "      <td>1</td>\n",
       "      <td>1</td>\n",
       "      <td>0</td>\n",
       "    </tr>\n",
       "    <tr>\n",
       "      <th>2540</th>\n",
       "      <td>10002862</td>\n",
       "      <td>73.0</td>\n",
       "      <td>8.0</td>\n",
       "      <td>180.0</td>\n",
       "      <td>52.0</td>\n",
       "      <td>1</td>\n",
       "      <td>0</td>\n",
       "      <td>1</td>\n",
       "      <td>0</td>\n",
       "    </tr>\n",
       "    <tr>\n",
       "      <th>4613</th>\n",
       "      <td>10001364</td>\n",
       "      <td>27.0</td>\n",
       "      <td>35.0</td>\n",
       "      <td>189.0</td>\n",
       "      <td>98.0</td>\n",
       "      <td>1</td>\n",
       "      <td>1</td>\n",
       "      <td>1</td>\n",
       "      <td>0</td>\n",
       "    </tr>\n",
       "  </tbody>\n",
       "</table>\n",
       "<p>3817 rows × 9 columns</p>\n",
       "</div>"
      ],
      "text/plain": [
       "      ID_SIMPERS   AGE  DOSE  HEIGHT  WEIGHT  GENDER  IS_CAUCAS  HAS_APPENDIX  \\\n",
       "1998    10003342  31.0  19.0   205.0   140.0       1          1             1   \n",
       "4143    10004418  35.0  35.0   188.0    51.0       1          0             0   \n",
       "1224    10002657  16.0  41.0   165.0   148.0       0          0             1   \n",
       "3509    10001628  44.0  15.0   171.0   110.0       0          0             0   \n",
       "407     10004001  51.0  29.0   174.0    77.0       1          0             1   \n",
       "...          ...   ...   ...     ...     ...     ...        ...           ...   \n",
       "2211    10000685  65.0  26.0   160.0   110.0       0          1             1   \n",
       "4573    10001102  54.0  13.0   170.0   148.0       0          1             1   \n",
       "1299    10000518  14.0   7.0   149.0    50.0       1          1             1   \n",
       "2540    10002862  73.0   8.0   180.0    52.0       1          0             1   \n",
       "4613    10001364  27.0  35.0   189.0    98.0       1          1             1   \n",
       "\n",
       "      HAS_ALLERGY  \n",
       "1998            1  \n",
       "4143            0  \n",
       "1224            0  \n",
       "3509            1  \n",
       "407             0  \n",
       "...           ...  \n",
       "2211            0  \n",
       "4573            0  \n",
       "1299            0  \n",
       "2540            0  \n",
       "4613            0  \n",
       "\n",
       "[3817 rows x 9 columns]"
      ]
     },
     "execution_count": 31,
     "metadata": {},
     "output_type": "execute_result"
    }
   ],
   "source": [
    "x_train"
   ]
  },
  {
   "cell_type": "code",
   "execution_count": 32,
   "id": "f93ec167",
   "metadata": {},
   "outputs": [
    {
     "data": {
      "text/plain": [
       "1998    1.0\n",
       "4143    0.0\n",
       "1224    0.0\n",
       "3509    1.0\n",
       "407     1.0\n",
       "       ... \n",
       "2211    0.0\n",
       "4573    0.0\n",
       "1299    0.0\n",
       "2540    0.0\n",
       "4613    1.0\n",
       "Name: FLAG_MUT, Length: 3817, dtype: float64"
      ]
     },
     "execution_count": 32,
     "metadata": {},
     "output_type": "execute_result"
    }
   ],
   "source": [
    "y_train"
   ]
  },
  {
   "cell_type": "code",
   "execution_count": 33,
   "id": "0260914e",
   "metadata": {},
   "outputs": [],
   "source": [
    "tree = DecisionTreeClassifier()"
   ]
  },
  {
   "cell_type": "code",
   "execution_count": 34,
   "id": "c0dd4728",
   "metadata": {},
   "outputs": [
    {
     "data": {
      "text/plain": [
       "DecisionTreeClassifier()"
      ]
     },
     "execution_count": 34,
     "metadata": {},
     "output_type": "execute_result"
    }
   ],
   "source": [
    "tree.fit(x_train, y_train)"
   ]
  },
  {
   "cell_type": "code",
   "execution_count": 35,
   "id": "35d9b589",
   "metadata": {},
   "outputs": [],
   "source": [
    "y_pred = tree.predict(x_test)"
   ]
  },
  {
   "cell_type": "code",
   "execution_count": 39,
   "id": "d2c05545",
   "metadata": {},
   "outputs": [
    {
     "data": {
      "text/plain": [
       "0.6670157068062827"
      ]
     },
     "execution_count": 39,
     "metadata": {},
     "output_type": "execute_result"
    }
   ],
   "source": [
    "acc = accuracy_score(y_test, y_pred)\n",
    "acc"
   ]
  },
  {
   "cell_type": "markdown",
   "id": "2d2e4cbb",
   "metadata": {},
   "source": [
    "Мы получили результат 66,7%, что не очень хорошо и наша модель часто ошибается.\n",
    "Чтобы такого не было, нужно правильно подготавливать данные.\n",
    "Вот пара способов:\n",
    "1. Вертикальная подготовка - избавление о резких выбросов.\n",
    "2. Горизантальная подготовка - не закладываем те данные в модель, которые имеют низкую корреляцию, так как они создают большой белый шум, что мешает модели.\n",
    "3. В будущем в модели еще важно настраивать глубину лепестков и их количество. Но пока возьмем первые два пункта."
   ]
  },
  {
   "cell_type": "code",
   "execution_count": 36,
   "id": "8f3c60a9",
   "metadata": {},
   "outputs": [],
   "source": [
    "cm = confusion_matrix(y_test, y_pred)"
   ]
  },
  {
   "cell_type": "code",
   "execution_count": 37,
   "id": "bd3e25d5",
   "metadata": {},
   "outputs": [
    {
     "data": {
      "text/plain": [
       "array([[425, 160],\n",
       "       [158, 212]], dtype=int64)"
      ]
     },
     "execution_count": 37,
     "metadata": {},
     "output_type": "execute_result"
    }
   ],
   "source": [
    "cm"
   ]
  },
  {
   "cell_type": "code",
   "execution_count": 40,
   "id": "5a8609e9",
   "metadata": {},
   "outputs": [
    {
     "data": {
      "text/plain": [
       "<AxesSubplot:>"
      ]
     },
     "execution_count": 40,
     "metadata": {},
     "output_type": "execute_result"
    },
    {
     "data": {
      "image/png": "[encoded data removed]",
      "text/plain": [
       "<Figure size 432x288 with 2 Axes>"
      ]
     },
     "metadata": {
      "needs_background": "light"
     },
     "output_type": "display_data"
    }
   ],
   "source": [
    "sns.heatmap(cm, annot = True, fmt = '.1f')\n",
    "#fmt - формат данных"
   ]
  },
  {
   "cell_type": "markdown",
   "id": "8f927651",
   "metadata": {},
   "source": [
    "#### План по улучшению модели:\n",
    "1. Убрать колонку с ID из модели.\n",
    "2. Убрать выбросы.\n",
    "3. Нормировать данные с непрерывной школой. \n",
    "\n",
    "По формуле = (переменная - мин.переменная)/(макс.переменная - мин.переменная)"
   ]
  },
  {
   "cell_type": "code",
   "execution_count": 127,
   "id": "2016cf65",
   "metadata": {},
   "outputs": [],
   "source": [
    "data_2 = data"
   ]
  },
  {
   "cell_type": "code",
   "execution_count": 128,
   "id": "51918a8d",
   "metadata": {},
   "outputs": [
    {
     "data": {
      "text/html": [
       "<div>\n",
       "<style scoped>\n",
       "    .dataframe tbody tr th:only-of-type {\n",
       "        vertical-align: middle;\n",
       "    }\n",
       "\n",
       "    .dataframe tbody tr th {\n",
       "        vertical-align: top;\n",
       "    }\n",
       "\n",
       "    .dataframe thead th {\n",
       "        text-align: right;\n",
       "    }\n",
       "</style>\n",
       "<table border=\"1\" class=\"dataframe\">\n",
       "  <thead>\n",
       "    <tr style=\"text-align: right;\">\n",
       "      <th></th>\n",
       "      <th>ID_SIMPERS</th>\n",
       "      <th>FLAG_MUT</th>\n",
       "      <th>AGE</th>\n",
       "      <th>DOSE</th>\n",
       "      <th>HEIGHT</th>\n",
       "      <th>WEIGHT</th>\n",
       "      <th>GENDER</th>\n",
       "      <th>IS_CAUCAS</th>\n",
       "      <th>HAS_APPENDIX</th>\n",
       "      <th>HAS_ALLERGY</th>\n",
       "    </tr>\n",
       "  </thead>\n",
       "  <tbody>\n",
       "    <tr>\n",
       "      <th>count</th>\n",
       "      <td>4.772000e+03</td>\n",
       "      <td>4772.000000</td>\n",
       "      <td>4772.000000</td>\n",
       "      <td>4772.000000</td>\n",
       "      <td>4772.000000</td>\n",
       "      <td>4772.000000</td>\n",
       "      <td>4772.000000</td>\n",
       "      <td>4772.000000</td>\n",
       "      <td>4772.000000</td>\n",
       "      <td>4772.000000</td>\n",
       "    </tr>\n",
       "    <tr>\n",
       "      <th>mean</th>\n",
       "      <td>1.000244e+07</td>\n",
       "      <td>0.387469</td>\n",
       "      <td>36.626153</td>\n",
       "      <td>24.887888</td>\n",
       "      <td>177.933361</td>\n",
       "      <td>91.814753</td>\n",
       "      <td>0.580050</td>\n",
       "      <td>0.630763</td>\n",
       "      <td>0.790444</td>\n",
       "      <td>0.203269</td>\n",
       "    </tr>\n",
       "    <tr>\n",
       "      <th>std</th>\n",
       "      <td>1.408816e+03</td>\n",
       "      <td>0.487223</td>\n",
       "      <td>23.058650</td>\n",
       "      <td>11.001658</td>\n",
       "      <td>30.325914</td>\n",
       "      <td>47.545709</td>\n",
       "      <td>0.493602</td>\n",
       "      <td>0.482649</td>\n",
       "      <td>0.407034</td>\n",
       "      <td>0.402473</td>\n",
       "    </tr>\n",
       "    <tr>\n",
       "      <th>min</th>\n",
       "      <td>1.000000e+07</td>\n",
       "      <td>0.000000</td>\n",
       "      <td>0.000000</td>\n",
       "      <td>1.000000</td>\n",
       "      <td>0.000000</td>\n",
       "      <td>0.000000</td>\n",
       "      <td>0.000000</td>\n",
       "      <td>0.000000</td>\n",
       "      <td>0.000000</td>\n",
       "      <td>0.000000</td>\n",
       "    </tr>\n",
       "    <tr>\n",
       "      <th>25%</th>\n",
       "      <td>1.000123e+07</td>\n",
       "      <td>0.000000</td>\n",
       "      <td>19.000000</td>\n",
       "      <td>17.000000</td>\n",
       "      <td>167.000000</td>\n",
       "      <td>63.000000</td>\n",
       "      <td>0.000000</td>\n",
       "      <td>0.000000</td>\n",
       "      <td>1.000000</td>\n",
       "      <td>0.000000</td>\n",
       "    </tr>\n",
       "    <tr>\n",
       "      <th>50%</th>\n",
       "      <td>1.000244e+07</td>\n",
       "      <td>0.000000</td>\n",
       "      <td>31.000000</td>\n",
       "      <td>25.000000</td>\n",
       "      <td>181.000000</td>\n",
       "      <td>91.000000</td>\n",
       "      <td>1.000000</td>\n",
       "      <td>1.000000</td>\n",
       "      <td>1.000000</td>\n",
       "      <td>0.000000</td>\n",
       "    </tr>\n",
       "    <tr>\n",
       "      <th>75%</th>\n",
       "      <td>1.000367e+07</td>\n",
       "      <td>1.000000</td>\n",
       "      <td>53.000000</td>\n",
       "      <td>32.000000</td>\n",
       "      <td>196.000000</td>\n",
       "      <td>121.000000</td>\n",
       "      <td>1.000000</td>\n",
       "      <td>1.000000</td>\n",
       "      <td>1.000000</td>\n",
       "      <td>0.000000</td>\n",
       "    </tr>\n",
       "    <tr>\n",
       "      <th>max</th>\n",
       "      <td>1.000489e+07</td>\n",
       "      <td>1.000000</td>\n",
       "      <td>250.000000</td>\n",
       "      <td>50.000000</td>\n",
       "      <td>900.000000</td>\n",
       "      <td>1159.000000</td>\n",
       "      <td>1.000000</td>\n",
       "      <td>1.000000</td>\n",
       "      <td>1.000000</td>\n",
       "      <td>1.000000</td>\n",
       "    </tr>\n",
       "  </tbody>\n",
       "</table>\n",
       "</div>"
      ],
      "text/plain": [
       "         ID_SIMPERS     FLAG_MUT          AGE         DOSE       HEIGHT  \\\n",
       "count  4.772000e+03  4772.000000  4772.000000  4772.000000  4772.000000   \n",
       "mean   1.000244e+07     0.387469    36.626153    24.887888   177.933361   \n",
       "std    1.408816e+03     0.487223    23.058650    11.001658    30.325914   \n",
       "min    1.000000e+07     0.000000     0.000000     1.000000     0.000000   \n",
       "25%    1.000123e+07     0.000000    19.000000    17.000000   167.000000   \n",
       "50%    1.000244e+07     0.000000    31.000000    25.000000   181.000000   \n",
       "75%    1.000367e+07     1.000000    53.000000    32.000000   196.000000   \n",
       "max    1.000489e+07     1.000000   250.000000    50.000000   900.000000   \n",
       "\n",
       "            WEIGHT       GENDER    IS_CAUCAS  HAS_APPENDIX  HAS_ALLERGY  \n",
       "count  4772.000000  4772.000000  4772.000000   4772.000000  4772.000000  \n",
       "mean     91.814753     0.580050     0.630763      0.790444     0.203269  \n",
       "std      47.545709     0.493602     0.482649      0.407034     0.402473  \n",
       "min       0.000000     0.000000     0.000000      0.000000     0.000000  \n",
       "25%      63.000000     0.000000     0.000000      1.000000     0.000000  \n",
       "50%      91.000000     1.000000     1.000000      1.000000     0.000000  \n",
       "75%     121.000000     1.000000     1.000000      1.000000     0.000000  \n",
       "max    1159.000000     1.000000     1.000000      1.000000     1.000000  "
      ]
     },
     "execution_count": 128,
     "metadata": {},
     "output_type": "execute_result"
    }
   ],
   "source": [
    "data_2.describe()"
   ]
  },
  {
   "cell_type": "code",
   "execution_count": 129,
   "id": "5ab3c9c7",
   "metadata": {},
   "outputs": [
    {
     "data": {
      "text/plain": [
       "<AxesSubplot:>"
      ]
     },
     "execution_count": 129,
     "metadata": {},
     "output_type": "execute_result"
    },
    {
     "data": {
      "image/png": "[encoded data removed]",
      "text/plain": [
       "<Figure size 1440x1440 with 2 Axes>"
      ]
     },
     "metadata": {
      "needs_background": "light"
     },
     "output_type": "display_data"
    }
   ],
   "source": [
    "corr = data_2.corr()\n",
    "\n",
    "plt.figure(figsize = (20, 20))\n",
    "sns.heatmap(corr, cbar=True, square=True, fmt ='.1f', annot=True, annot_kws={'size': 13}, cmap='Greens')"
   ]
  },
  {
   "cell_type": "code",
   "execution_count": 130,
   "id": "1663f259",
   "metadata": {},
   "outputs": [],
   "source": [
    "data_2 = data_2[data_2['HEIGHT']<=250]\n",
    "data_2 = data_2[data_2['WEIGHT']<= 200]\n",
    "data_2 = data_2[data_2['AGE']<=120]\n",
    "data_2 = data_2.drop(['ID_SIMPERS'], axis = 1)\n",
    "data_2 = data_2.drop(['GENDER'], axis = 1)"
   ]
  },
  {
   "cell_type": "code",
   "execution_count": 131,
   "id": "754a6cc1",
   "metadata": {},
   "outputs": [],
   "source": [
    "data_2 = data_2[data_2['HEIGHT']>0]\n",
    "data_2 = data_2[data_2['WEIGHT']>0]"
   ]
  },
  {
   "cell_type": "code",
   "execution_count": 132,
   "id": "aec0c6cb",
   "metadata": {},
   "outputs": [],
   "source": [
    "data_2 = data_2.drop(['IS_CAUCAS'], axis = 1)\n",
    "data_2 = data_2.drop(['HAS_APPENDIX'], axis = 1)"
   ]
  },
  {
   "cell_type": "code",
   "execution_count": 133,
   "id": "f6ce6c73",
   "metadata": {
    "scrolled": false
   },
   "outputs": [
    {
     "data": {
      "text/plain": [
       "<AxesSubplot:>"
      ]
     },
     "execution_count": 133,
     "metadata": {},
     "output_type": "execute_result"
    },
    {
     "data": {
      "image/png": "[encoded data removed]",
      "text/plain": [
       "<Figure size 1440x1440 with 2 Axes>"
      ]
     },
     "metadata": {
      "needs_background": "light"
     },
     "output_type": "display_data"
    }
   ],
   "source": [
    "corr = data_2.corr()\n",
    "\n",
    "plt.figure(figsize = (20, 20))\n",
    "sns.heatmap(corr, cbar=True, square=True, fmt ='.1f', annot=True, annot_kws={'size': 13}, cmap='Greens')"
   ]
  },
  {
   "cell_type": "code",
   "execution_count": 134,
   "id": "51dc3c52",
   "metadata": {},
   "outputs": [],
   "source": [
    "data_2.AGE = (data_2.AGE-min(data_2.AGE))/(max(data_2.AGE)-min(data_2.AGE))\n",
    "data_2.HEIGHT = (data_2.HEIGHT-min(data_2.HEIGHT))/(max(data_2.HEIGHT)-min(data_2.HEIGHT))\n",
    "data_2.WEIGHT = (data_2.WEIGHT-min(data_2.WEIGHT))/(max(data_2.WEIGHT)-min(data_2.WEIGHT))"
   ]
  },
  {
   "cell_type": "code",
   "execution_count": 135,
   "id": "45325d44",
   "metadata": {},
   "outputs": [
    {
     "data": {
      "text/plain": [
       "<AxesSubplot:>"
      ]
     },
     "execution_count": 135,
     "metadata": {},
     "output_type": "execute_result"
    },
    {
     "data": {
      "image/png": "[encoded data removed]",
      "text/plain": [
       "<Figure size 1440x1440 with 2 Axes>"
      ]
     },
     "metadata": {
      "needs_background": "light"
     },
     "output_type": "display_data"
    }
   ],
   "source": [
    "corr = data_2.corr()\n",
    "\n",
    "plt.figure(figsize = (20, 20))\n",
    "sns.heatmap(corr, cbar=True, square=True, fmt ='.1f', annot=True, annot_kws={'size': 13}, cmap='Greens')"
   ]
  },
  {
   "cell_type": "code",
   "execution_count": 117,
   "id": "9b770917",
   "metadata": {},
   "outputs": [],
   "source": [
    "data_2 = data_2.drop(['AGE'], axis = 1)\n",
    "data_2 = data_2.drop(['WEIGHT'], axis = 1)\n",
    "data_2 = data_2.drop(['HEIGHT'], axis = 1)"
   ]
  },
  {
   "cell_type": "code",
   "execution_count": 118,
   "id": "62f01d77",
   "metadata": {},
   "outputs": [
    {
     "data": {
      "text/html": [
       "<div>\n",
       "<style scoped>\n",
       "    .dataframe tbody tr th:only-of-type {\n",
       "        vertical-align: middle;\n",
       "    }\n",
       "\n",
       "    .dataframe tbody tr th {\n",
       "        vertical-align: top;\n",
       "    }\n",
       "\n",
       "    .dataframe thead th {\n",
       "        text-align: right;\n",
       "    }\n",
       "</style>\n",
       "<table border=\"1\" class=\"dataframe\">\n",
       "  <thead>\n",
       "    <tr style=\"text-align: right;\">\n",
       "      <th></th>\n",
       "      <th>FLAG_MUT</th>\n",
       "      <th>DOSE</th>\n",
       "      <th>HAS_ALLERGY</th>\n",
       "    </tr>\n",
       "  </thead>\n",
       "  <tbody>\n",
       "    <tr>\n",
       "      <th>count</th>\n",
       "      <td>4738.000000</td>\n",
       "      <td>4738.000000</td>\n",
       "      <td>4738.000000</td>\n",
       "    </tr>\n",
       "    <tr>\n",
       "      <th>mean</th>\n",
       "      <td>0.388561</td>\n",
       "      <td>24.899114</td>\n",
       "      <td>0.203461</td>\n",
       "    </tr>\n",
       "    <tr>\n",
       "      <th>std</th>\n",
       "      <td>0.487475</td>\n",
       "      <td>11.017745</td>\n",
       "      <td>0.402615</td>\n",
       "    </tr>\n",
       "    <tr>\n",
       "      <th>min</th>\n",
       "      <td>0.000000</td>\n",
       "      <td>1.000000</td>\n",
       "      <td>0.000000</td>\n",
       "    </tr>\n",
       "    <tr>\n",
       "      <th>25%</th>\n",
       "      <td>0.000000</td>\n",
       "      <td>17.000000</td>\n",
       "      <td>0.000000</td>\n",
       "    </tr>\n",
       "    <tr>\n",
       "      <th>50%</th>\n",
       "      <td>0.000000</td>\n",
       "      <td>25.000000</td>\n",
       "      <td>0.000000</td>\n",
       "    </tr>\n",
       "    <tr>\n",
       "      <th>75%</th>\n",
       "      <td>1.000000</td>\n",
       "      <td>32.000000</td>\n",
       "      <td>0.000000</td>\n",
       "    </tr>\n",
       "    <tr>\n",
       "      <th>max</th>\n",
       "      <td>1.000000</td>\n",
       "      <td>50.000000</td>\n",
       "      <td>1.000000</td>\n",
       "    </tr>\n",
       "  </tbody>\n",
       "</table>\n",
       "</div>"
      ],
      "text/plain": [
       "          FLAG_MUT         DOSE  HAS_ALLERGY\n",
       "count  4738.000000  4738.000000  4738.000000\n",
       "mean      0.388561    24.899114     0.203461\n",
       "std       0.487475    11.017745     0.402615\n",
       "min       0.000000     1.000000     0.000000\n",
       "25%       0.000000    17.000000     0.000000\n",
       "50%       0.000000    25.000000     0.000000\n",
       "75%       1.000000    32.000000     0.000000\n",
       "max       1.000000    50.000000     1.000000"
      ]
     },
     "execution_count": 118,
     "metadata": {},
     "output_type": "execute_result"
    }
   ],
   "source": [
    "data_2.describe()"
   ]
  },
  {
   "cell_type": "code",
   "execution_count": 108,
   "id": "59501231",
   "metadata": {},
   "outputs": [
    {
     "data": {
      "text/html": [
       "<div>\n",
       "<style scoped>\n",
       "    .dataframe tbody tr th:only-of-type {\n",
       "        vertical-align: middle;\n",
       "    }\n",
       "\n",
       "    .dataframe tbody tr th {\n",
       "        vertical-align: top;\n",
       "    }\n",
       "\n",
       "    .dataframe thead th {\n",
       "        text-align: right;\n",
       "    }\n",
       "</style>\n",
       "<table border=\"1\" class=\"dataframe\">\n",
       "  <thead>\n",
       "    <tr style=\"text-align: right;\">\n",
       "      <th></th>\n",
       "      <th>FLAG_MUT</th>\n",
       "      <th>AGE</th>\n",
       "      <th>DOSE</th>\n",
       "      <th>HEIGHT</th>\n",
       "      <th>WEIGHT</th>\n",
       "      <th>HAS_ALLERGY</th>\n",
       "    </tr>\n",
       "  </thead>\n",
       "  <tbody>\n",
       "    <tr>\n",
       "      <th>1133</th>\n",
       "      <td>1.0</td>\n",
       "      <td>58.0</td>\n",
       "      <td>45.0</td>\n",
       "      <td>210.0</td>\n",
       "      <td>104.0</td>\n",
       "      <td>0</td>\n",
       "    </tr>\n",
       "    <tr>\n",
       "      <th>4812</th>\n",
       "      <td>1.0</td>\n",
       "      <td>59.0</td>\n",
       "      <td>19.0</td>\n",
       "      <td>210.0</td>\n",
       "      <td>107.0</td>\n",
       "      <td>0</td>\n",
       "    </tr>\n",
       "    <tr>\n",
       "      <th>1351</th>\n",
       "      <td>1.0</td>\n",
       "      <td>18.0</td>\n",
       "      <td>30.0</td>\n",
       "      <td>210.0</td>\n",
       "      <td>108.0</td>\n",
       "      <td>1</td>\n",
       "    </tr>\n",
       "    <tr>\n",
       "      <th>485</th>\n",
       "      <td>1.0</td>\n",
       "      <td>25.0</td>\n",
       "      <td>17.0</td>\n",
       "      <td>210.0</td>\n",
       "      <td>51.0</td>\n",
       "      <td>0</td>\n",
       "    </tr>\n",
       "    <tr>\n",
       "      <th>1332</th>\n",
       "      <td>1.0</td>\n",
       "      <td>15.0</td>\n",
       "      <td>15.0</td>\n",
       "      <td>210.0</td>\n",
       "      <td>138.0</td>\n",
       "      <td>0</td>\n",
       "    </tr>\n",
       "    <tr>\n",
       "      <th>...</th>\n",
       "      <td>...</td>\n",
       "      <td>...</td>\n",
       "      <td>...</td>\n",
       "      <td>...</td>\n",
       "      <td>...</td>\n",
       "      <td>...</td>\n",
       "    </tr>\n",
       "    <tr>\n",
       "      <th>3640</th>\n",
       "      <td>0.0</td>\n",
       "      <td>4.0</td>\n",
       "      <td>15.0</td>\n",
       "      <td>97.0</td>\n",
       "      <td>14.0</td>\n",
       "      <td>0</td>\n",
       "    </tr>\n",
       "    <tr>\n",
       "      <th>756</th>\n",
       "      <td>1.0</td>\n",
       "      <td>4.0</td>\n",
       "      <td>11.0</td>\n",
       "      <td>97.0</td>\n",
       "      <td>14.0</td>\n",
       "      <td>0</td>\n",
       "    </tr>\n",
       "    <tr>\n",
       "      <th>4782</th>\n",
       "      <td>0.0</td>\n",
       "      <td>4.0</td>\n",
       "      <td>34.0</td>\n",
       "      <td>97.0</td>\n",
       "      <td>13.0</td>\n",
       "      <td>0</td>\n",
       "    </tr>\n",
       "    <tr>\n",
       "      <th>2123</th>\n",
       "      <td>0.0</td>\n",
       "      <td>4.0</td>\n",
       "      <td>24.0</td>\n",
       "      <td>97.0</td>\n",
       "      <td>13.0</td>\n",
       "      <td>1</td>\n",
       "    </tr>\n",
       "    <tr>\n",
       "      <th>3871</th>\n",
       "      <td>0.0</td>\n",
       "      <td>4.0</td>\n",
       "      <td>19.0</td>\n",
       "      <td>97.0</td>\n",
       "      <td>12.0</td>\n",
       "      <td>1</td>\n",
       "    </tr>\n",
       "  </tbody>\n",
       "</table>\n",
       "<p>4738 rows × 6 columns</p>\n",
       "</div>"
      ],
      "text/plain": [
       "      FLAG_MUT   AGE  DOSE  HEIGHT  WEIGHT  HAS_ALLERGY\n",
       "1133       1.0  58.0  45.0   210.0   104.0            0\n",
       "4812       1.0  59.0  19.0   210.0   107.0            0\n",
       "1351       1.0  18.0  30.0   210.0   108.0            1\n",
       "485        1.0  25.0  17.0   210.0    51.0            0\n",
       "1332       1.0  15.0  15.0   210.0   138.0            0\n",
       "...        ...   ...   ...     ...     ...          ...\n",
       "3640       0.0   4.0  15.0    97.0    14.0            0\n",
       "756        1.0   4.0  11.0    97.0    14.0            0\n",
       "4782       0.0   4.0  34.0    97.0    13.0            0\n",
       "2123       0.0   4.0  24.0    97.0    13.0            1\n",
       "3871       0.0   4.0  19.0    97.0    12.0            1\n",
       "\n",
       "[4738 rows x 6 columns]"
      ]
     },
     "execution_count": 108,
     "metadata": {},
     "output_type": "execute_result"
    }
   ],
   "source": [
    "#data_2.sort_values(by = ['HEIGHT'], ascending = False)"
   ]
  },
  {
   "cell_type": "markdown",
   "id": "59b90dbe",
   "metadata": {},
   "source": [
    "## Feature Scaling"
   ]
  },
  {
   "cell_type": "code",
   "execution_count": 109,
   "id": "61447608",
   "metadata": {},
   "outputs": [],
   "source": [
    "#data_2.AGE = (data_2.AGE-min(data_2.AGE))/(max(data_2.AGE)-min(data_2.AGE))\n",
    "#data_2.HEIGHT = (data_2.HEIGHT-min(data_2.HEIGHT))/(max(data_2.HEIGHT)-min(data_2.HEIGHT))\n",
    "#data_2.WEIGHT = (data_2.WEIGHT-min(data_2.WEIGHT))/(max(data_2.WEIGHT)-min(data_2.WEIGHT))\n",
    "\n",
    "# Для непрерывных шкал делаем нормированные значения, чтобы модель лучше отработала"
   ]
  },
  {
   "cell_type": "markdown",
   "id": "9b85242e",
   "metadata": {},
   "source": [
    "## ML_2"
   ]
  },
  {
   "cell_type": "code",
   "execution_count": 119,
   "id": "30186331",
   "metadata": {},
   "outputs": [],
   "source": [
    "# Сплитуем модель на тренинговую и тестовую выборку:\n",
    "x_train_2, x_test_2, y_train_2, y_test_2 = train_test_split(\n",
    "    data_2.drop(['FLAG_MUT'], axis=1),\n",
    "    data_2.FLAG_MUT,\n",
    "    test_size= 0.2,\n",
    "    random_state = 0,\n",
    "    stratify= data_2.FLAG_MUT)"
   ]
  },
  {
   "cell_type": "code",
   "execution_count": 120,
   "id": "1f7083aa",
   "metadata": {},
   "outputs": [],
   "source": [
    "tree_2 = DecisionTreeClassifier()"
   ]
  },
  {
   "cell_type": "code",
   "execution_count": 121,
   "id": "0c0538e7",
   "metadata": {},
   "outputs": [
    {
     "data": {
      "text/plain": [
       "DecisionTreeClassifier()"
      ]
     },
     "execution_count": 121,
     "metadata": {},
     "output_type": "execute_result"
    }
   ],
   "source": [
    "# Обучаем модель:\n",
    "tree_2.fit(x_train_2, y_train_2)"
   ]
  },
  {
   "cell_type": "code",
   "execution_count": 122,
   "id": "588b7db1",
   "metadata": {},
   "outputs": [],
   "source": [
    "# Тестируем модель\n",
    "y_pred_2 = tree_2.predict(x_test_2)"
   ]
  },
  {
   "cell_type": "code",
   "execution_count": 123,
   "id": "fb1b81b2",
   "metadata": {},
   "outputs": [],
   "source": [
    "acc_2 = accuracy_score(y_test_2, y_pred_2)"
   ]
  },
  {
   "cell_type": "code",
   "execution_count": 124,
   "id": "2a180f35",
   "metadata": {},
   "outputs": [
    {
     "data": {
      "text/plain": [
       "0.6835443037974683"
      ]
     },
     "execution_count": 124,
     "metadata": {},
     "output_type": "execute_result"
    }
   ],
   "source": [
    "acc_2"
   ]
  },
  {
   "cell_type": "code",
   "execution_count": 125,
   "id": "2547c6e7",
   "metadata": {},
   "outputs": [
    {
     "data": {
      "text/plain": [
       "array([[496,  84],\n",
       "       [216, 152]], dtype=int64)"
      ]
     },
     "execution_count": 125,
     "metadata": {},
     "output_type": "execute_result"
    }
   ],
   "source": [
    "cm_2 = confusion_matrix(y_test_2, y_pred_2)\n",
    "cm_2"
   ]
  },
  {
   "cell_type": "code",
   "execution_count": 126,
   "id": "d5ec421b",
   "metadata": {},
   "outputs": [
    {
     "data": {
      "text/plain": [
       "<AxesSubplot:>"
      ]
     },
     "execution_count": 126,
     "metadata": {},
     "output_type": "execute_result"
    },
    {
     "data": {
      "image/png": "[encoded data removed]",
      "text/plain": [
       "<Figure size 432x288 with 2 Axes>"
      ]
     },
     "metadata": {
      "needs_background": "light"
     },
     "output_type": "display_data"
    }
   ],
   "source": [
    "sns.heatmap(cm_2, fmt = '.1f', annot = True)"
   ]
  },
  {
   "cell_type": "code",
   "execution_count": null,
   "id": "c4299519",
   "metadata": {},
   "outputs": [],
   "source": []
  }
 ],
 "metadata": {
  "kernelspec": {
   "display_name": "Python 3 (ipykernel)",
   "language": "python",
   "name": "python3"
  },
  "language_info": {
   "codemirror_mode": {
    "name": "ipython",
    "version": 3
   },
   "file_extension": ".py",
   "mimetype": "text/x-python",
   "name": "python",
   "nbconvert_exporter": "python",
   "pygments_lexer": "ipython3",
   "version": "3.9.12"
  }
 },
 "nbformat": 4,
 "nbformat_minor": 5
}
